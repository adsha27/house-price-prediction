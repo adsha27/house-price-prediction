{
 "cells": [
  {
   "cell_type": "markdown",
   "id": "7423584c",
   "metadata": {},
   "source": [
    "# Exploratory Data Analysis (EDA) - California Housing Dataset\n",
    "    **Objective:** This notebook performs an initial exploratory data analysis on the California Housing dataset. The goals are:\n",
    "    1.  Understand the structure, data types, and statistical properties of the dataset.\n",
    "    2.  Analyze the distribution of the target variable, `MedHouseVal`.\n",
    "    3.  Visualize the distributions of individual features.\n",
    "    4.  Investigate relationships and correlations between features, especially with the target variable.\n",
    "    5.  Identify potential data quality issues, outliers, or patterns that will inform feature engineering and model selection."
   ]
  },
  {
   "cell_type": "code",
   "execution_count": null,
   "id": "4c8f0f5b",
   "metadata": {},
   "outputs": [],
   "source": [
    "import sys\n",
    "import os\n",
    "import pandas as pd\n",
    "import numpy as np\n",
    "import matplotlib.pyplot as plt\n",
    "import seaborn as sns\n",
    "\n",
    "## setting a plot style\n",
    "plt.style.use('seaborn-v0_8-whitegrid')\n",
    "sns.set_context(\\\"talk\\\")"
   ]
  },
  {
   "cell_type": "code",
   "execution_count": null,
   "id": "9aa22990",
   "metadata": {},
   "outputs": [],
   "source": []
  }
 ],
 "metadata": {
  "kernelspec": {
   "display_name": "venv",
   "language": "python",
   "name": "python3"
  },
  "language_info": {
   "codemirror_mode": {
    "name": "ipython",
    "version": 3
   },
   "file_extension": ".py",
   "mimetype": "text/x-python",
   "name": "python",
   "nbconvert_exporter": "python",
   "pygments_lexer": "ipython3",
   "version": "3.11.11"
  }
 },
 "nbformat": 4,
 "nbformat_minor": 5
}
